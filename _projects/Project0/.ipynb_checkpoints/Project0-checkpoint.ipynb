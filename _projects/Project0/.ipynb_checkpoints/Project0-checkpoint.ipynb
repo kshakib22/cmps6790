{
 "cells": [
  {
   "cell_type": "markdown",
   "metadata": {},
   "source": [
    "# CMPS6790 - Project0\n",
    "\n",
    "This assignment is intended to ensure that you are able to edit and submit Jupyter Notebooks. \n",
    "\n",
    "The goal is to write a function to count the frequency of different characters in a given string. For example: character_frequency('google') should return a `dict`: {'g': 2, 'o': 2, 'l': 1, 'e': 1} and then you should add some code to display some summary statistics about some data that you bring in!\n",
    "\n",
    "There are many tutorials on the web that can show you how to use the Python data structures. Quite a few examples at: https://docs.python.org/3/tutorial/datastructures.html\n",
    "\n",
    "If you have any trouble with this at all (and we are sure at least some of you will), don't worry and stop by our office hours.\n",
    "\n",
    "You should edit the function definition below, make sure to press 'Shift + Enter' to execute it, and then execute the two function calls to check that the output is correct."
   ]
  },
  {
   "cell_type": "code",
   "execution_count": 4,
   "metadata": {},
   "outputs": [],
   "source": [
    "def character_frequency(s):\n",
    "    ret = dict()\n",
    "    for char in s:\n",
    "        if char in ret:\n",
    "            ret[char] = ret[char]+ 1\n",
    "        else:\n",
    "            ret[char]=1\n",
    "    return ret"
   ]
  },
  {
   "cell_type": "code",
   "execution_count": 5,
   "metadata": {},
   "outputs": [
    {
     "data": {
      "text/plain": [
       "{'g': 2, 'o': 2, 'l': 1, 'e': 1}"
      ]
     },
     "execution_count": 5,
     "metadata": {},
     "output_type": "execute_result"
    }
   ],
   "source": [
    "character_frequency('google')"
   ]
  },
  {
   "cell_type": "code",
   "execution_count": 6,
   "metadata": {},
   "outputs": [
    {
     "data": {
      "text/plain": [
       "{'T': 1,\n",
       " 'h': 2,\n",
       " 'i': 6,\n",
       " 's': 7,\n",
       " ' ': 15,\n",
       " 'a': 5,\n",
       " 'g': 1,\n",
       " 'n': 6,\n",
       " 'm': 2,\n",
       " 'e': 10,\n",
       " 't': 10,\n",
       " 'd': 4,\n",
       " 'o': 6,\n",
       " 'u': 4,\n",
       " 'r': 3,\n",
       " 'y': 2,\n",
       " 'b': 3,\n",
       " 'l': 1,\n",
       " 'J': 1,\n",
       " 'p': 1,\n",
       " 'N': 1,\n",
       " 'k': 1,\n",
       " '.': 1}"
      ]
     },
     "execution_count": 6,
     "metadata": {},
     "output_type": "execute_result"
    }
   ],
   "source": [
    "character_frequency('This assignment is intended to ensure that you are able to edit and submit Jupyter Notebooks.')"
   ]
  },
  {
   "cell_type": "markdown",
   "metadata": {},
   "source": [
    "Now in the cell below you should create two string variables and inside them put a different quotes (at least 10 words long) from a favorite book, movie, tv show, or any other media."
   ]
  },
  {
   "cell_type": "code",
   "execution_count": 8,
   "metadata": {},
   "outputs": [],
   "source": [
    "string1 = \"Work consists of whatever a body is obliged to do, and play consists of whatever a body is not obliged to do\"\n",
    "string2 = \"It's a basic truth of the human condition that everybody lies\""
   ]
  },
  {
   "cell_type": "markdown",
   "metadata": {},
   "source": [
    "For each of the above quotes add code below to print out the character frequency and then give a set of summary statistics for each one, specifically the letter(s) that occur the fewest number of times in each string, the letter(s) that occur the most times in each string, and the average count over both strings for all the letters. You should display this data neatly."
   ]
  },
  {
   "cell_type": "code",
   "execution_count": 144,
   "metadata": {},
   "outputs": [],
   "source": [
    "import pandas as pd\n",
    "\n",
    "def print_details(df1, df2):\n",
    "    # print(\"Most occurred letter in string1 - \", df1.iloc[-1].name, \"whose frequency is \" , df1.iloc[-1].values)\n",
    "\n",
    "    # print(\"Most occurred letter in string2 - \", df2.iloc[-1].name, \"whose frequency is \" , df2.iloc[-1].values)\n",
    "\n",
    "    # print(\"Least occurred letter in string1 - \", df1.iloc[0].name, \"whose frequency is \" , df1.iloc[0].values)\n",
    "\n",
    "    # print(\"Least occurred letter in string2 - \", df2.iloc[0].name, \"whose frequency is \" , df2.iloc[0].values)\n",
    "    least_letters1 = df1[df1['Frequency'] == df1['Frequency'].min()]\n",
    "    least_letters2 = df2[df2['Frequency'] == df2['Frequency'].min()]\n",
    "    most_letters1 = df1[df1['Frequency'] == df1['Frequency'].max()]\n",
    "    most_letters2 = df2[df2['Frequency'] == df2['Frequency'].max()]\n",
    "\n",
    "    print(\"Most occurred letter(s) in string1 - \\n\", most_letters1, \"\\n\")\n",
    "    print(\"Most occurred letter(s) in string2 - \\n\", most_letters2, \"\\n\")\n",
    "    print(\"Least occurred letter(s) in string1 - \\n\", least_letters1, \"\\n\")\n",
    "    print(\"Least occurred letter(s) in string2 - \\n\", least_letters2, \"\\n\")\n",
    "    \n",
    "    dfmix = pd.concat([df1,df2])\n",
    "    dfmix[\"Average\"] = dfmix['Frequency']/2\n",
    "    print(\"The dataframe with its average - \\n\", dfmix)\n",
    "    \n",
    "\n",
    "def further_details(dict1, dict2):\n",
    "    df1 = pd.DataFrame.from_dict(dict1, orient='index',columns = [\"Frequency\"])\n",
    "    df1.index.name = 'Character'\n",
    "    \n",
    "    df2 = pd.DataFrame.from_dict(dict2, orient='index', columns = [\"Frequency\"])\n",
    "    df2.index.name = 'Character'\n",
    "    \n",
    "    df1 = df1.sort_values(by='Frequency')\n",
    "    df2 = df2.sort_values(by='Frequency')\n",
    "\n",
    "    # print(df1)\n",
    "    # print(df2)\n",
    "    print_details(df1,df2)\n",
    "    "
   ]
  },
  {
   "cell_type": "code",
   "execution_count": 145,
   "metadata": {},
   "outputs": [
    {
     "name": "stdout",
     "output_type": "stream",
     "text": [
      "Most occurred letter(s) in string1 - \n",
      "            Frequency\n",
      "Character           \n",
      "o                 14 \n",
      "\n",
      "Most occurred letter(s) in string2 - \n",
      "            Frequency\n",
      "Character           \n",
      "t                  7 \n",
      "\n",
      "Least occurred letter(s) in string1 - \n",
      "            Frequency\n",
      "Character           \n",
      "W                  1\n",
      ",                  1\n",
      "k                  1\n",
      "p                  1 \n",
      "\n",
      "Least occurred letter(s) in string2 - \n",
      "            Frequency\n",
      "Character           \n",
      "I                  1\n",
      "v                  1\n",
      "m                  1\n",
      "f                  1\n",
      "l                  1\n",
      "'                  1 \n",
      "\n",
      "The dataframe with its average - \n",
      "            Frequency  Average\n",
      "Character                    \n",
      "W                  1      0.5\n",
      ",                  1      0.5\n",
      "k                  1      0.5\n",
      "p                  1      0.5\n",
      "c                  2      1.0\n",
      "g                  2      1.0\n",
      "v                  2      1.0\n",
      "h                  2      1.0\n",
      "f                  2      1.0\n",
      "w                  2      1.0\n",
      "r                  3      1.5\n",
      "y                  3      1.5\n",
      "l                  3      1.5\n",
      "b                  4      2.0\n",
      "n                  4      2.0\n",
      "i                  6      3.0\n",
      "e                  6      3.0\n",
      "a                  6      3.0\n",
      "d                  7      3.5\n",
      "t                  7      3.5\n",
      "s                  8      4.0\n",
      "o                 14      7.0\n",
      "I                  1      0.5\n",
      "v                  1      0.5\n",
      "m                  1      0.5\n",
      "f                  1      0.5\n",
      "l                  1      0.5\n",
      "'                  1      0.5\n",
      "b                  2      1.0\n",
      "c                  2      1.0\n",
      "r                  2      1.0\n",
      "y                  2      1.0\n",
      "d                  2      1.0\n",
      "u                  2      1.0\n",
      "s                  3      1.5\n",
      "n                  3      1.5\n",
      "i                  4      2.0\n",
      "h                  4      2.0\n",
      "o                  4      2.0\n",
      "e                  4      2.0\n",
      "a                  4      2.0\n",
      "t                  7      3.5\n"
     ]
    }
   ],
   "source": [
    "dict1 = character_frequency(string1.replace(\" \",\"\")) \n",
    "dict2 = character_frequency(string2.replace(\" \",\"\"))\n",
    "\n",
    "further_details(dict1, dict2)"
   ]
  }
 ],
 "metadata": {
  "kernelspec": {
   "display_name": "Python 3 (ipykernel)",
   "language": "python",
   "name": "python3"
  },
  "language_info": {
   "codemirror_mode": {
    "name": "ipython",
    "version": 3
   },
   "file_extension": ".py",
   "mimetype": "text/x-python",
   "name": "python",
   "nbconvert_exporter": "python",
   "pygments_lexer": "ipython3",
   "version": "3.11.5"
  }
 },
 "nbformat": 4,
 "nbformat_minor": 4
}
