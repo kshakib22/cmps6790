{
 "cells": [
  {
   "cell_type": "markdown",
   "metadata": {
    "id": "ihgPK7LWrOG8"
   },
   "source": [
    "# Demo 02: Introduction to Pandas, Reading Data, and Plotting!\n",
    "\n",
    "In this demo we will get more practice working with Pandas, slicing data, and some simple plotting. At the very end we will do a bit more complex analysis and make a model!"
   ]
  },
  {
   "cell_type": "code",
   "execution_count": null,
   "metadata": {},
   "outputs": [],
   "source": [
    "# Only run if in COLAB!\n",
    "# clone the course repository, change to right directory, and import libraries.\n",
    "%cd /content\n",
    "!git clone https://github.com/nmattei/cmps6790.git\n",
    "%cd /content/cmps6790/_demos"
   ]
  },
  {
   "cell_type": "code",
   "execution_count": null,
   "metadata": {
    "colab": {
     "base_uri": "https://localhost:8080/"
    },
    "executionInfo": {
     "elapsed": 5628,
     "status": "ok",
     "timestamp": 1691183002967,
     "user": {
      "displayName": "Aron C",
      "userId": "07834910496055545653"
     },
     "user_tz": 300
    },
    "id": "WdlGyrgPlV4Q",
    "outputId": "b158ffb7-29f7-495b-ae4c-b98c02c7eb52"
   },
   "outputs": [],
   "source": [
    "# Standard inputs\n",
    "import pandas as pd\n",
    "import numpy as np\n",
    "import matplotlib.pyplot as plt\n",
    "import seaborn as sns"
   ]
  },
  {
   "cell_type": "markdown",
   "metadata": {
    "id": "EQGlYUjylUV0"
   },
   "source": [
    "# Intro to Pandas, Reading Data, and Plotting\n",
    "\n",
    "The cell below loads up a few libraries and does some initialization.  In this notebook we'll do a few basic data manipulations and see the Pandas formatting for the first time and make some simple graphs.\n"
   ]
  },
  {
   "cell_type": "code",
   "execution_count": null,
   "metadata": {
    "executionInfo": {
     "elapsed": 6,
     "status": "ok",
     "timestamp": 1691183002968,
     "user": {
      "displayName": "Aron C",
      "userId": "07834910496055545653"
     },
     "user_tz": 300
    },
    "id": "ryXT939elUV4"
   },
   "outputs": [],
   "source": [
    "### Customizing plot styles\n",
    "plt.style.use('fivethirtyeight')\n",
    "# Make the fonts a little bigger in our graphs.\n",
    "font = {'size'   : 20}\n",
    "plt.rc('font', **font)\n",
    "plt.rcParams['mathtext.fontset'] = 'cm'\n",
    "plt.rcParams['pdf.fonttype'] = 42"
   ]
  },
  {
   "cell_type": "markdown",
   "metadata": {
    "id": "06EqHCQElUV5"
   },
   "source": [
    "## Working with some real data and Pandas!\n",
    "\n",
    "Opening and reading CSV files is very easy with Pandas [Read CSV Documentation](https://pandas.pydata.org/pandas-docs/stable/reference/api/pandas.read_csv.html)\n",
    "\n",
    "In general the [Pandas Documentation](https://pandas.pydata.org/docs/) is very good and you should spend some time getting to know it. You can also use the cheatsheets that we have posted on the [course webpage](https://nmattei.github.io/cmps3160/)."
   ]
  },
  {
   "cell_type": "code",
   "execution_count": null,
   "metadata": {
    "executionInfo": {
     "elapsed": 229,
     "status": "ok",
     "timestamp": 1691183003193,
     "user": {
      "displayName": "Aron C",
      "userId": "07834910496055545653"
     },
     "user_tz": 300
    },
    "id": "RbTTqwVnlUV6"
   },
   "outputs": [],
   "source": [
    "# Open the NBA Salaries file.\n",
    "df_nba = pd.read_csv(\"data/nba_salaries.csv\")"
   ]
  },
  {
   "cell_type": "markdown",
   "metadata": {
    "id": "ctiEqge3sytQ"
   },
   "source": [
    "Once we have loaded the data into the variable `df_nba` we can print it out! We can also slice the data by the index, or first column of the dataframe."
   ]
  },
  {
   "cell_type": "code",
   "execution_count": null,
   "metadata": {
    "colab": {
     "base_uri": "https://localhost:8080/",
     "height": 423
    },
    "executionInfo": {
     "elapsed": 230,
     "status": "ok",
     "timestamp": 1691183003194,
     "user": {
      "displayName": "Aron C",
      "userId": "07834910496055545653"
     },
     "user_tz": 300
    },
    "id": "xgNShWrRlUV6",
    "outputId": "a69068fe-693e-47d6-d3a9-bf7f70a65f3c"
   },
   "outputs": [],
   "source": [
    "# Display gives us a basic table.  Note that we can index and slice this in many different ways.\n",
    "display(df_nba)"
   ]
  },
  {
   "cell_type": "code",
   "execution_count": null,
   "metadata": {
    "colab": {
     "base_uri": "https://localhost:8080/",
     "height": 676
    },
    "executionInfo": {
     "elapsed": 23,
     "status": "ok",
     "timestamp": 1691183003194,
     "user": {
      "displayName": "Aron C",
      "userId": "07834910496055545653"
     },
     "user_tz": 300
    },
    "id": "QEXzRTbynH9f",
    "outputId": "76a60364-3f18-4de6-e3cf-d293d3d25c85"
   },
   "outputs": [],
   "source": [
    "# Within this we can get different rows of the table by the index, the left most column\n",
    "display(df_nba[10:30])"
   ]
  },
  {
   "cell_type": "markdown",
   "metadata": {
    "id": "QtxKuaFotGjM"
   },
   "source": [
    "We can pull out specific cells in the table."
   ]
  },
  {
   "cell_type": "code",
   "execution_count": null,
   "metadata": {
    "colab": {
     "base_uri": "https://localhost:8080/",
     "height": 80
    },
    "executionInfo": {
     "elapsed": 23,
     "status": "ok",
     "timestamp": 1691183003195,
     "user": {
      "displayName": "Aron C",
      "userId": "07834910496055545653"
     },
     "user_tz": 300
    },
    "id": "RMHZb8cMlUV7",
    "outputId": "5c6aaa4c-5d78-4402-c99a-6fb639b82017"
   },
   "outputs": [],
   "source": [
    "# Look at a specific person... a little clunky.\n",
    "display(df_nba.loc[df_nba['PLAYER'] == \"Stephen Curry\"])"
   ]
  },
  {
   "cell_type": "code",
   "execution_count": null,
   "metadata": {
    "colab": {
     "base_uri": "https://localhost:8080/",
     "height": 362
    },
    "executionInfo": {
     "elapsed": 21,
     "status": "ok",
     "timestamp": 1691183003195,
     "user": {
      "displayName": "Aron C",
      "userId": "07834910496055545653"
     },
     "user_tz": 300
    },
    "id": "NCUPevc9lUV7",
    "outputId": "d281d8ac-9ebf-4e13-a017-355ba892da33"
   },
   "outputs": [],
   "source": [
    "# Can filter for a whole set\n",
    "df_nba.loc[df_nba['POSITION'] == \"PG\"][:10]\n",
    "# Again note that we can slice this different ways\n",
    "# but we will always get the results in the order of the *index*"
   ]
  },
  {
   "cell_type": "markdown",
   "metadata": {
    "id": "uP6T6X_VtUM1"
   },
   "source": [
    "Because our data is well organized (we'll get more into how to do this well when we get into Tidy Data) we can use the selecting features to see a team."
   ]
  },
  {
   "cell_type": "code",
   "execution_count": null,
   "metadata": {
    "colab": {
     "base_uri": "https://localhost:8080/",
     "height": 551
    },
    "executionInfo": {
     "elapsed": 20,
     "status": "ok",
     "timestamp": 1691183003196,
     "user": {
      "displayName": "Aron C",
      "userId": "07834910496055545653"
     },
     "user_tz": 300
    },
    "id": "MOHZMINtlUV8",
    "outputId": "b8b9e0bd-6eb8-40b1-e680-8ab96e02d222"
   },
   "outputs": [],
   "source": [
    "# Can also see a team...\n",
    "df_nba.loc[df_nba['TEAM'] == \"New Orleans Pelicans\"]"
   ]
  },
  {
   "cell_type": "markdown",
   "metadata": {
    "id": "ZioAyOcMtqdE"
   },
   "source": [
    "You may have noticed that we are using boolean functions to select, we can combine these using the standard boolean operators `|`, `&`, and `!`. One quirk of Pandas is that we really should encase all our boolean logic in parentisis, which can get a bit cumbersome."
   ]
  },
  {
   "cell_type": "code",
   "execution_count": null,
   "metadata": {
    "colab": {
     "base_uri": "https://localhost:8080/",
     "height": 1000
    },
    "executionInfo": {
     "elapsed": 19,
     "status": "ok",
     "timestamp": 1691183003196,
     "user": {
      "displayName": "Aron C",
      "userId": "07834910496055545653"
     },
     "user_tz": 300
    },
    "id": "tU649djit9GQ",
    "outputId": "ff4c3482-3be6-41f3-d475-07787b40706d"
   },
   "outputs": [],
   "source": [
    "df_nba.loc[(df_nba['TEAM'] == \"New Orleans Pelicans\") | (df_nba['TEAM'] == \"Boston Celtics\")]"
   ]
  },
  {
   "cell_type": "code",
   "execution_count": null,
   "metadata": {
    "colab": {
     "base_uri": "https://localhost:8080/",
     "height": 423
    },
    "executionInfo": {
     "elapsed": 246,
     "status": "ok",
     "timestamp": 1691183003424,
     "user": {
      "displayName": "Aron C",
      "userId": "07834910496055545653"
     },
     "user_tz": 300
    },
    "id": "CfY_iCyduIyD",
    "outputId": "a64fc448-76ed-4388-b9a6-f7336d6e2ac3"
   },
   "outputs": [],
   "source": [
    "# We can also do more complex selection, which we'll need a lot!\n",
    "df_nba.loc[(df_nba[\"'15-'16 SALARY\"] > 5.0)]"
   ]
  },
  {
   "cell_type": "markdown",
   "metadata": {
    "id": "JqHX2xxPuevz"
   },
   "source": [
    "**Gotcha Warning** Pandas will let you use a `.attribute` notation... but I don't like this..."
   ]
  },
  {
   "cell_type": "code",
   "execution_count": null,
   "metadata": {
    "colab": {
     "base_uri": "https://localhost:8080/",
     "height": 551
    },
    "executionInfo": {
     "elapsed": 39,
     "status": "ok",
     "timestamp": 1691183003425,
     "user": {
      "displayName": "Aron C",
      "userId": "07834910496055545653"
     },
     "user_tz": 300
    },
    "id": "eTxxcmA0lUV8",
    "outputId": "762ec068-9f57-40ad-ddd3-2e01ef5b9a56"
   },
   "outputs": [],
   "source": [
    "# There are other ways to index, but I always use the full selection as it's more explicit.\n",
    "df_nba.loc[df_nba.TEAM == \"New Orleans Pelicans\"]"
   ]
  },
  {
   "cell_type": "markdown",
   "metadata": {
    "id": "J4irAYvElUV9"
   },
   "source": [
    "**Question:** Why would I not want to use the `.TEAM` syntax all the time? What could go wrong?"
   ]
  },
  {
   "cell_type": "code",
   "execution_count": null,
   "metadata": {
    "colab": {
     "base_uri": "https://localhost:8080/",
     "height": 423
    },
    "executionInfo": {
     "elapsed": 37,
     "status": "ok",
     "timestamp": 1691183003425,
     "user": {
      "displayName": "Aron C",
      "userId": "07834910496055545653"
     },
     "user_tz": 300
    },
    "id": "dd-S_KEKlUV9",
    "outputId": "15fad5eb-657e-4c99-9485-b4c9b07f4b50"
   },
   "outputs": [],
   "source": [
    "# Can also just pick out a subset of coumns if we want.\n",
    "df_nba[['PLAYER', 'TEAM']]"
   ]
  },
  {
   "cell_type": "markdown",
   "metadata": {
    "id": "gV1SyDQzuxBW"
   },
   "source": [
    "In the above the function returns a **view** of a dataframe with just the relevant columns. We can use this and compute summary stats, which we'll use more later.\n",
    "\n",
    "I really cannot stress enough how useful [the handy Pandas Cheat Sheet is.](https://drive.google.com/file/d/1SWw2QXKPGJv99_a4VceEdBkmnB2Zljb5/view)"
   ]
  },
  {
   "cell_type": "code",
   "execution_count": null,
   "metadata": {
    "colab": {
     "base_uri": "https://localhost:8080/"
    },
    "executionInfo": {
     "elapsed": 28,
     "status": "ok",
     "timestamp": 1691183003426,
     "user": {
      "displayName": "Aron C",
      "userId": "07834910496055545653"
     },
     "user_tz": 300
    },
    "id": "EGshAMH-lUV-",
    "outputId": "bf78f25f-6fa3-4f59-e018-6d60d709b62a"
   },
   "outputs": [],
   "source": [
    "# Can also compute summary stats over columns, like the mean.. (look at cheat sheet!)\n",
    "# Note the problem with the column name!\n",
    "df_nba.loc[df_nba['TEAM'] == \"New Orleans Pelicans\"][\"'15-'16 SALARY\"].sum()"
   ]
  },
  {
   "cell_type": "code",
   "execution_count": null,
   "metadata": {
    "colab": {
     "base_uri": "https://localhost:8080/"
    },
    "executionInfo": {
     "elapsed": 21,
     "status": "ok",
     "timestamp": 1691183003426,
     "user": {
      "displayName": "Aron C",
      "userId": "07834910496055545653"
     },
     "user_tz": 300
    },
    "id": "rocDYoAElUV-",
    "outputId": "9a9acced-78f6-4d7b-ebd3-ac401ff1d603"
   },
   "outputs": [],
   "source": [
    "df_nba[\"'15-'16 SALARY\"].median()"
   ]
  },
  {
   "cell_type": "code",
   "execution_count": null,
   "metadata": {
    "colab": {
     "base_uri": "https://localhost:8080/"
    },
    "executionInfo": {
     "elapsed": 18,
     "status": "ok",
     "timestamp": 1691183003426,
     "user": {
      "displayName": "Aron C",
      "userId": "07834910496055545653"
     },
     "user_tz": 300
    },
    "id": "CVCeWEOnvIjB",
    "outputId": "4ebcceb7-9034-4150-e44e-9ab0713de21c"
   },
   "outputs": [],
   "source": [
    "df_nba[\"'15-'16 SALARY\"].describe()"
   ]
  },
  {
   "cell_type": "markdown",
   "metadata": {
    "id": "6TcJLbbflUV_"
   },
   "source": [
    "# Sorting!\n",
    "\n",
    "Up to now everything has been sorted by the `index` or first columnt of the dataframe. We might want to sort by other things, so we can use `sort_values`."
   ]
  },
  {
   "cell_type": "code",
   "execution_count": null,
   "metadata": {
    "colab": {
     "base_uri": "https://localhost:8080/",
     "height": 362
    },
    "executionInfo": {
     "elapsed": 238,
     "status": "ok",
     "timestamp": 1691183003650,
     "user": {
      "displayName": "Aron C",
      "userId": "07834910496055545653"
     },
     "user_tz": 300
    },
    "id": "x_oanJ80lUV_",
    "outputId": "40a4d516-2471-4116-dfe8-dc08c6162d75"
   },
   "outputs": [],
   "source": [
    "# Look at all PGs sorted by salary...\n",
    "df_nba.loc[df_nba['POSITION'] == \"PG\"].sort_values(\"'15-'16 SALARY\", ascending=False)[:10]"
   ]
  },
  {
   "cell_type": "markdown",
   "metadata": {
    "id": "NM-hDLcIlUV_"
   },
   "source": [
    "Note that the above sorting does not happen *in place* unless we explicitly tell Pandas to do so -- [Documentation for sort_values](https://pandas.pydata.org/pandas-docs/stable/reference/api/pandas.DataFrame.sort_values.html)"
   ]
  },
  {
   "cell_type": "code",
   "execution_count": null,
   "metadata": {
    "colab": {
     "base_uri": "https://localhost:8080/",
     "height": 206
    },
    "executionInfo": {
     "elapsed": 36,
     "status": "ok",
     "timestamp": 1691183003651,
     "user": {
      "displayName": "Aron C",
      "userId": "07834910496055545653"
     },
     "user_tz": 300
    },
    "id": "SQSrnriClUWA",
    "outputId": "f17e7476-478e-4306-ad1a-888e7f1f8604"
   },
   "outputs": [],
   "source": [
    "# Once we sort by values it does not stay the same unless we overwrite the table or do it in place...\n",
    "df_nba.loc[df_nba['POSITION'] == \"PG\"][:5]"
   ]
  },
  {
   "cell_type": "markdown",
   "metadata": {
    "id": "s09wNDsclUWA"
   },
   "source": [
    "### So let's try to sort it in place!\n",
    "\n",
    "**Gotcha Warning!**"
   ]
  },
  {
   "cell_type": "code",
   "execution_count": null,
   "metadata": {
    "colab": {
     "base_uri": "https://localhost:8080/"
    },
    "executionInfo": {
     "elapsed": 35,
     "status": "ok",
     "timestamp": 1691183003652,
     "user": {
      "displayName": "Aron C",
      "userId": "07834910496055545653"
     },
     "user_tz": 300
    },
    "id": "EhhdptkilUWA",
    "outputId": "1f632e89-1347-41e0-c472-99448812119d"
   },
   "outputs": [],
   "source": [
    "df_nba.loc[df_nba['POSITION'] == \"PG\"].sort_values(\"'15-'16 SALARY\", inplace=True, ascending=False)\n",
    "\n",
    "## This won't work -- note that we are getting a VIEW of the data with the first command, so\n",
    "## we get the dreaded set with copy warning! because we are only operating on a view of the data!"
   ]
  },
  {
   "cell_type": "markdown",
   "metadata": {
    "id": "_Wm8By6uvipW"
   },
   "source": [
    "You are going to get so sick of the **SettingWithCopyWarning** before this class is over. Do not ignore these! They will cost you professionalism points on turned in assignments and, more importantly, it means you are likely doing something that you do not want to or do not mean to do.\n",
    "\n",
    "[Remember Arie's Handy Coding Guide!](https://nmattei.github.io/cmps3140/codingguide)"
   ]
  },
  {
   "cell_type": "code",
   "execution_count": null,
   "metadata": {
    "executionInfo": {
     "elapsed": 25,
     "status": "ok",
     "timestamp": 1691183003652,
     "user": {
      "displayName": "Aron C",
      "userId": "07834910496055545653"
     },
     "user_tz": 300
    },
    "id": "YWh356MklUWA"
   },
   "outputs": [],
   "source": [
    "# We have to sort, then print the whole data frame\n",
    "df_nba.sort_values(\"'15-'16 SALARY\", inplace=True, ascending=False)"
   ]
  },
  {
   "cell_type": "code",
   "execution_count": null,
   "metadata": {
    "colab": {
     "base_uri": "https://localhost:8080/",
     "height": 206
    },
    "executionInfo": {
     "elapsed": 25,
     "status": "ok",
     "timestamp": 1691183003652,
     "user": {
      "displayName": "Aron C",
      "userId": "07834910496055545653"
     },
     "user_tz": 300
    },
    "id": "vjUNUk2jlUWB",
    "outputId": "e08f50a7-a61e-45f8-aff7-1e4b2e0b4d56"
   },
   "outputs": [],
   "source": [
    "df_nba.loc[df_nba['POSITION'] == \"PG\"][:5]"
   ]
  },
  {
   "cell_type": "code",
   "execution_count": null,
   "metadata": {
    "colab": {
     "base_uri": "https://localhost:8080/",
     "height": 206
    },
    "executionInfo": {
     "elapsed": 24,
     "status": "ok",
     "timestamp": 1691183003653,
     "user": {
      "displayName": "Aron C",
      "userId": "07834910496055545653"
     },
     "user_tz": 300
    },
    "id": "Zc4NE9pqlUWB",
    "outputId": "b30f271a-0a20-4802-a6f6-c10a704e0082"
   },
   "outputs": [],
   "source": [
    "# But now everything is sorted!\n",
    "df_nba[:5]"
   ]
  },
  {
   "cell_type": "code",
   "execution_count": null,
   "metadata": {
    "colab": {
     "base_uri": "https://localhost:8080/",
     "height": 206
    },
    "executionInfo": {
     "elapsed": 23,
     "status": "ok",
     "timestamp": 1691183003654,
     "user": {
      "displayName": "Aron C",
      "userId": "07834910496055545653"
     },
     "user_tz": 300
    },
    "id": "QVldU-pLlUWB",
    "outputId": "1e68a8ba-4f05-4645-9b88-5c7f4e252d16"
   },
   "outputs": [],
   "source": [
    "# Now let's put it back to normal... Note here we used .sort_index, if we used reset_index we'd renumber!!\n",
    "df_nba.sort_index(inplace=True)\n",
    "df_nba.loc[df_nba['POSITION'] == \"PG\"][:5]"
   ]
  },
  {
   "cell_type": "markdown",
   "metadata": {
    "id": "hk3t3g7vwVRc"
   },
   "source": [
    "To make sure it is clear -- if we had called `reset_index` on the above then we would have completely renumbered and set the index to the current order. While this may not seem like a big deal now, it might be if our data was, e.g., dates!"
   ]
  },
  {
   "cell_type": "code",
   "execution_count": null,
   "metadata": {
    "colab": {
     "base_uri": "https://localhost:8080/",
     "height": 484
    },
    "executionInfo": {
     "elapsed": 750,
     "status": "ok",
     "timestamp": 1691183004382,
     "user": {
      "displayName": "Aron C",
      "userId": "07834910496055545653"
     },
     "user_tz": 300
    },
    "id": "itfn0yxhlUWB",
    "outputId": "74c67d81-4c13-4c5b-d9fe-ba798930aa12"
   },
   "outputs": [],
   "source": [
    "# Get a histogram with Pandas\n",
    "df_nba['POSITION'].hist()"
   ]
  },
  {
   "cell_type": "code",
   "execution_count": null,
   "metadata": {
    "colab": {
     "base_uri": "https://localhost:8080/",
     "height": 523
    },
    "executionInfo": {
     "elapsed": 743,
     "status": "ok",
     "timestamp": 1691183005121,
     "user": {
      "displayName": "Aron C",
      "userId": "07834910496055545653"
     },
     "user_tz": 300
    },
    "id": "4vg8xAcXlUWC",
    "outputId": "142c0bda-0048-4494-b598-fc6c71726cd4"
   },
   "outputs": [],
   "source": [
    "# Maybe see what the position distribution is... (using seaborn)\n",
    "sns.countplot(x=df_nba['POSITION'])"
   ]
  },
  {
   "cell_type": "code",
   "execution_count": null,
   "metadata": {
    "colab": {
     "base_uri": "https://localhost:8080/",
     "height": 515
    },
    "executionInfo": {
     "elapsed": 757,
     "status": "ok",
     "timestamp": 1691183005873,
     "user": {
      "displayName": "Aron C",
      "userId": "07834910496055545653"
     },
     "user_tz": 300
    },
    "id": "PsWJE2OQlUWC",
    "outputId": "76eba08b-1b0d-4988-e771-da4957a6f920"
   },
   "outputs": [],
   "source": [
    "# Or we can see how salaries are distributed...\n",
    "df_nba.plot.scatter(x='POSITION', y=\"'15-'16 SALARY\")"
   ]
  },
  {
   "cell_type": "code",
   "execution_count": null,
   "metadata": {
    "colab": {
     "base_uri": "https://localhost:8080/",
     "height": 956
    },
    "executionInfo": {
     "elapsed": 786,
     "status": "ok",
     "timestamp": 1691183006656,
     "user": {
      "displayName": "Aron C",
      "userId": "07834910496055545653"
     },
     "user_tz": 300
    },
    "id": "rDpDBvHxlUWC",
    "outputId": "21e419a8-dfa3-444c-d2cc-fb2c87a35a74"
   },
   "outputs": [],
   "source": [
    "# Or box plots to get really fancy...\n",
    "df_nba.boxplot(column=[\"'15-'16 SALARY\"], by=['POSITION'], figsize=(10,10))"
   ]
  },
  {
   "cell_type": "markdown",
   "metadata": {
    "id": "aTlYaaqvlUWD"
   },
   "source": [
    "# Reading some Books and Making a Model!\n",
    "\n",
    "So far we've seen the basics of how to sort and slice data, you'll practice these more in Lab 2!\n",
    "\n",
    "But now let's try something more fun. We're going to go build a model that shows the relationship between the number of characters in a book, and the puncuation!\n",
    "\n",
    "To do this we'll use several tools that we'll do much more with later in the semester including the `requests` library and using Python's regular expression processing features."
   ]
  },
  {
   "cell_type": "code",
   "execution_count": null,
   "metadata": {
    "executionInfo": {
     "elapsed": 154,
     "status": "ok",
     "timestamp": 1691183006806,
     "user": {
      "displayName": "Aron C",
      "userId": "07834910496055545653"
     },
     "user_tz": 300
    },
    "id": "9NGwOuOjlUWD"
   },
   "outputs": [],
   "source": [
    "from urllib.request import urlopen\n",
    "import re\n",
    "def read_url(url):\n",
    "    return re.sub('\\\\s+', ' ', urlopen(url).read().decode())"
   ]
  },
  {
   "cell_type": "code",
   "execution_count": null,
   "metadata": {
    "executionInfo": {
     "elapsed": 552,
     "status": "ok",
     "timestamp": 1691183007355,
     "user": {
      "displayName": "Aron C",
      "userId": "07834910496055545653"
     },
     "user_tz": 300
    },
    "id": "ZwwaAWrNlUWE"
   },
   "outputs": [],
   "source": [
    "\n",
    "# Read two books, fast!\n",
    "\n",
    "huck_finn_url = 'https://www.inferentialthinking.com/data/huck_finn.txt'\n",
    "huck_finn_text = read_url(huck_finn_url)\n",
    "huck_finn_chapters = huck_finn_text.split('CHAPTER ')[44:]\n",
    "\n",
    "little_women_url = 'https://www.inferentialthinking.com/data/little_women.txt'\n",
    "little_women_text = read_url(little_women_url)\n",
    "little_women_chapters = little_women_text.split('CHAPTER ')[1:]"
   ]
  },
  {
   "cell_type": "code",
   "execution_count": null,
   "metadata": {
    "colab": {
     "base_uri": "https://localhost:8080/"
    },
    "executionInfo": {
     "elapsed": 12,
     "status": "ok",
     "timestamp": 1691183007355,
     "user": {
      "displayName": "Aron C",
      "userId": "07834910496055545653"
     },
     "user_tz": 300
    },
    "id": "ePDQ9lB-lUWE",
    "outputId": "7d4af744-270b-4184-af93-853f7e38d7dd",
    "scrolled": true
   },
   "outputs": [],
   "source": [
    "len(huck_finn_chapters)"
   ]
  },
  {
   "cell_type": "code",
   "execution_count": null,
   "metadata": {
    "colab": {
     "base_uri": "https://localhost:8080/",
     "height": 54
    },
    "executionInfo": {
     "elapsed": 9,
     "status": "ok",
     "timestamp": 1691183007356,
     "user": {
      "displayName": "Aron C",
      "userId": "07834910496055545653"
     },
     "user_tz": 300
    },
    "id": "YBEE84PYxWVS",
    "outputId": "25e233b8-b40e-4105-910c-f4c590b51d41"
   },
   "outputs": [],
   "source": [
    "huck_finn_chapters[0][:300]"
   ]
  },
  {
   "cell_type": "code",
   "execution_count": null,
   "metadata": {
    "executionInfo": {
     "elapsed": 143,
     "status": "ok",
     "timestamp": 1691183007492,
     "user": {
      "displayName": "Aron C",
      "userId": "07834910496055545653"
     },
     "user_tz": 300
    },
    "id": "WRwa7HS-lUWE"
   },
   "outputs": [],
   "source": [
    "# Turn it into a data frame..\n",
    "df_huck = pd.DataFrame(huck_finn_chapters, columns=[\"Text\"])"
   ]
  },
  {
   "cell_type": "code",
   "execution_count": null,
   "metadata": {
    "colab": {
     "base_uri": "https://localhost:8080/",
     "height": 206
    },
    "executionInfo": {
     "elapsed": 6,
     "status": "ok",
     "timestamp": 1691183007492,
     "user": {
      "displayName": "Aron C",
      "userId": "07834910496055545653"
     },
     "user_tz": 300
    },
    "id": "ARRcX9qClUWE",
    "outputId": "0a7bbf42-6a0c-43b5-e4d4-5ecc0e718361"
   },
   "outputs": [],
   "source": [
    "display(df_huck[:5])"
   ]
  },
  {
   "cell_type": "code",
   "execution_count": null,
   "metadata": {
    "executionInfo": {
     "elapsed": 6,
     "status": "ok",
     "timestamp": 1691183007493,
     "user": {
      "displayName": "Aron C",
      "userId": "07834910496055545653"
     },
     "user_tz": 300
    },
    "id": "MdgDA_X_lUWE"
   },
   "outputs": [],
   "source": [
    "# Count how many times we see each character...\n",
    "# Here we make a data frame out of a dictionary where the index is the column name\n",
    "# and the values are the column\n",
    "counts = pd.DataFrame({\n",
    "        'Jim':np.char.count(huck_finn_chapters, 'Jim'),\n",
    "        'Tom':np.char.count(huck_finn_chapters, 'Tom'),\n",
    "        'Huck':np.char.count(huck_finn_chapters, 'Huck')\n",
    "    })"
   ]
  },
  {
   "cell_type": "code",
   "execution_count": null,
   "metadata": {
    "colab": {
     "base_uri": "https://localhost:8080/",
     "height": 362
    },
    "executionInfo": {
     "elapsed": 169,
     "status": "ok",
     "timestamp": 1691183007657,
     "user": {
      "displayName": "Aron C",
      "userId": "07834910496055545653"
     },
     "user_tz": 300
    },
    "id": "R6M_4IIXlUWE",
    "outputId": "91f9269a-802f-4342-aed9-4906a026a9fa"
   },
   "outputs": [],
   "source": [
    "counts[:10]"
   ]
  },
  {
   "cell_type": "code",
   "execution_count": null,
   "metadata": {
    "colab": {
     "base_uri": "https://localhost:8080/",
     "height": 756
    },
    "executionInfo": {
     "elapsed": 825,
     "status": "ok",
     "timestamp": 1691183008479,
     "user": {
      "displayName": "Aron C",
      "userId": "07834910496055545653"
     },
     "user_tz": 300
    },
    "id": "838cY0AklUWF",
    "outputId": "97db8a38-2173-4a1c-83ab-a6c7a46e04d2"
   },
   "outputs": [],
   "source": [
    "ax = counts.cumsum().plot(figsize=(10,8))\n",
    "ax.set_xlabel(\"Chapter\")\n",
    "ax.set_ylabel(\"Number of Times\")\n",
    "#ax.set_ylim((-5,310))\n",
    "plt.show()"
   ]
  },
  {
   "cell_type": "markdown",
   "metadata": {
    "id": "l1iJuAN3lUWF"
   },
   "source": [
    "There are lots of options for the figures ... Note that here we are using [Pandas Plot](https://pandas.pydata.org/pandas-docs/version/0.23/generated/pandas.DataFrame.plot.html) which is a wrapper around [MatPlot's Plot](https://matplotlib.org/3.1.1/api/_as_gen/matplotlib.pyplot.plot.html)."
   ]
  },
  {
   "cell_type": "code",
   "execution_count": null,
   "metadata": {
    "colab": {
     "base_uri": "https://localhost:8080/",
     "height": 734
    },
    "executionInfo": {
     "elapsed": 595,
     "status": "ok",
     "timestamp": 1691183009069,
     "user": {
      "displayName": "Aron C",
      "userId": "07834910496055545653"
     },
     "user_tz": 300
    },
    "id": "qDhp8VdilUWF",
    "outputId": "102ce6fb-1599-4621-f1c9-dfdaa1a9be99"
   },
   "outputs": [],
   "source": [
    "ax = counts.cumsum().plot(figsize=(10,8), fontsize=(5),\n",
    "                                          lw=2,\n",
    "                                          markersize=12,\n",
    "                                          style=['X-','o-.','v--','s:','d:','*-.'])\n",
    "ax.set_xlabel(\"Chapter\")\n",
    "ax.set_ylabel(\"Number of Times\")\n",
    "ax.set_ylim((-5,310))\n",
    "plt.show()"
   ]
  },
  {
   "cell_type": "code",
   "execution_count": null,
   "metadata": {
    "executionInfo": {
     "elapsed": 10,
     "status": "ok",
     "timestamp": 1691183009069,
     "user": {
      "displayName": "Aron C",
      "userId": "07834910496055545653"
     },
     "user_tz": 300
    },
    "id": "yNPTISXxlUWF"
   },
   "outputs": [],
   "source": [
    "# Now for Little women... here we're going to do the counts a little differently\n",
    "# and use Numpy (NUmerical PYthon) functions\n",
    "\n",
    "people = ['Amy', 'Beth', 'Jo', 'Laurie', 'Meg']\n",
    "people_counts = {pp: np.char.count(little_women_chapters, pp) for pp in people}\n"
   ]
  },
  {
   "cell_type": "code",
   "execution_count": null,
   "metadata": {
    "colab": {
     "base_uri": "https://localhost:8080/"
    },
    "executionInfo": {
     "elapsed": 10,
     "status": "ok",
     "timestamp": 1691183009070,
     "user": {
      "displayName": "Aron C",
      "userId": "07834910496055545653"
     },
     "user_tz": 300
    },
    "id": "-lGvdvmnlUWF",
    "outputId": "16d7d9e1-8b8f-400f-99e0-7c4cccd984e5"
   },
   "outputs": [],
   "source": [
    "people_counts.keys()"
   ]
  },
  {
   "cell_type": "code",
   "execution_count": null,
   "metadata": {
    "colab": {
     "base_uri": "https://localhost:8080/"
    },
    "executionInfo": {
     "elapsed": 9,
     "status": "ok",
     "timestamp": 1691183009070,
     "user": {
      "displayName": "Aron C",
      "userId": "07834910496055545653"
     },
     "user_tz": 300
    },
    "id": "qJi6bC8clUWI",
    "outputId": "6e59716e-2615-4c76-d7b1-afe04dbb8095"
   },
   "outputs": [],
   "source": [
    "people_counts['Beth']"
   ]
  },
  {
   "cell_type": "code",
   "execution_count": null,
   "metadata": {
    "colab": {
     "base_uri": "https://localhost:8080/",
     "height": 1000
    },
    "executionInfo": {
     "elapsed": 5,
     "status": "ok",
     "timestamp": 1691183009070,
     "user": {
      "displayName": "Aron C",
      "userId": "07834910496055545653"
     },
     "user_tz": 300
    },
    "id": "Fw9iOidulUWI",
    "outputId": "73906ebf-3b9a-4071-b208-0b739021ff33"
   },
   "outputs": [],
   "source": [
    "# Make a pandas table...\n",
    "counts = pd.DataFrame(people_counts)\n",
    "counts"
   ]
  },
  {
   "cell_type": "code",
   "execution_count": null,
   "metadata": {
    "colab": {
     "base_uri": "https://localhost:8080/",
     "height": 748
    },
    "executionInfo": {
     "elapsed": 905,
     "status": "ok",
     "timestamp": 1691183009971,
     "user": {
      "displayName": "Aron C",
      "userId": "07834910496055545653"
     },
     "user_tz": 300
    },
    "id": "_kkbhQrJlUWI",
    "outputId": "c924cd78-c47b-471c-dc56-65ea80ebf5f4"
   },
   "outputs": [],
   "source": [
    "ax = counts.cumsum().plot(figsize=(10,8), fontsize=(15),\n",
    "                                          lw=2,\n",
    "                                          markersize=12,\n",
    "                                          style=['X-','o-.','v--','s:','d:','*-.'])\n",
    "ax.set_xlabel(\"Chapter\")\n",
    "ax.set_ylabel(\"Number of Times\")\n",
    "plt.show()"
   ]
  },
  {
   "cell_type": "markdown",
   "metadata": {
    "id": "ePz_nrf0lUWJ"
   },
   "source": [
    "# Something more fun...\n",
    "\n",
    "Inspired by the [Inferential Thinking Book](https://www.inferentialthinking.com/chapters/01/3/2/Another_Kind_Of_Character) let's do some more analysis on the text that we have loaded up.\n",
    "\n",
    "First let's count the number of periods and the total number of characters in each of the books."
   ]
  },
  {
   "cell_type": "code",
   "execution_count": null,
   "metadata": {
    "colab": {
     "base_uri": "https://localhost:8080/"
    },
    "executionInfo": {
     "elapsed": 15,
     "status": "ok",
     "timestamp": 1691183009971,
     "user": {
      "displayName": "Aron C",
      "userId": "07834910496055545653"
     },
     "user_tz": 300
    },
    "id": "lOEOhKeslUWJ",
    "outputId": "beb749ec-2c66-44fe-b52f-534f27aed105"
   },
   "outputs": [],
   "source": [
    "# Recall that each element in the array corresponds to a chapter.\n",
    "print(huck_finn_chapters[0][:50])\n",
    "print(little_women_chapters[0][:50])"
   ]
  },
  {
   "cell_type": "code",
   "execution_count": null,
   "metadata": {
    "executionInfo": {
     "elapsed": 10,
     "status": "ok",
     "timestamp": 1691183009972,
     "user": {
      "displayName": "Aron C",
      "userId": "07834910496055545653"
     },
     "user_tz": 300
    },
    "id": "C5U8G-DslUWJ"
   },
   "outputs": [],
   "source": [
    "chars_periods_huck_finn = pd.DataFrame({\n",
    "        'Huck Finn Chapter Length':[len(s) for s in huck_finn_chapters],\n",
    "        'Number of Periods':np.char.count(huck_finn_chapters, '.')\n",
    "        })\n",
    "chars_periods_little_women = pd.DataFrame({\n",
    "        'Little Women Chapter Length': [len(s) for s in little_women_chapters],\n",
    "        'Number of Periods': np.char.count(little_women_chapters, '.')\n",
    "        })"
   ]
  },
  {
   "cell_type": "code",
   "execution_count": null,
   "metadata": {
    "colab": {
     "base_uri": "https://localhost:8080/",
     "height": 394
    },
    "executionInfo": {
     "elapsed": 9,
     "status": "ok",
     "timestamp": 1691183009972,
     "user": {
      "displayName": "Aron C",
      "userId": "07834910496055545653"
     },
     "user_tz": 300
    },
    "id": "ceZDshGdlUWJ",
    "outputId": "0781fe4e-8aa8-4712-fe0f-70b660ddd26b"
   },
   "outputs": [],
   "source": [
    "display(chars_periods_huck_finn[:5])\n",
    "display(chars_periods_little_women[:5])"
   ]
  },
  {
   "cell_type": "markdown",
   "metadata": {
    "id": "t768qHlNlUWJ"
   },
   "source": [
    "What do we notice about the above?  It seems like *Little Women* is significantly longer per chapter than *Huck Finn*.  Let's try plotting this relationship on the same graph.\n",
    "\n",
    "To do this we are going to use the `scatter` function from [MatPlotLib](https://matplotlib.org/3.1.1/api/_as_gen/matplotlib.pyplot.scatter.html)"
   ]
  },
  {
   "cell_type": "code",
   "execution_count": null,
   "metadata": {
    "colab": {
     "base_uri": "https://localhost:8080/",
     "height": 612
    },
    "executionInfo": {
     "elapsed": 552,
     "status": "ok",
     "timestamp": 1691183010516,
     "user": {
      "displayName": "Aron C",
      "userId": "07834910496055545653"
     },
     "user_tz": 300
    },
    "id": "J5KOjL9MlUWJ",
    "outputId": "0d2743b6-0b06-41a9-8232-2e3076555cd0"
   },
   "outputs": [],
   "source": [
    "plt.figure(figsize=(6, 6))\n",
    "plt.scatter(chars_periods_huck_finn[\"Number of Periods\"],\n",
    "              chars_periods_huck_finn[\"Huck Finn Chapter Length\"],\n",
    "              color='darkblue')\n",
    "\n",
    "plt.scatter(chars_periods_little_women[\"Number of Periods\"],\n",
    "              chars_periods_little_women[\"Little Women Chapter Length\"],\n",
    "              color='gold')\n",
    "\n",
    "plt.xlabel('Number of periods in chapter')\n",
    "plt.ylabel('Number of characters in chapter')"
   ]
  },
  {
   "cell_type": "markdown",
   "metadata": {
    "id": "cdrweCxalUWK"
   },
   "source": [
    "The above plot shows us a few things:\n",
    "1. Little Women is much longer on average than Huck\n",
    "2. There seems to be a linear relationship between the number of characters and the number of periods\n",
    "\n",
    "If we look at all the chapters that have 100 periods we see they have 10,000 - 15,000 characters.. or roughly 100-150 characters per sentence.  Seems like a Tweet."
   ]
  },
  {
   "cell_type": "code",
   "execution_count": null,
   "metadata": {
    "colab": {
     "base_uri": "https://localhost:8080/",
     "height": 224
    },
    "executionInfo": {
     "elapsed": 10,
     "status": "ok",
     "timestamp": 1691183010517,
     "user": {
      "displayName": "Aron C",
      "userId": "07834910496055545653"
     },
     "user_tz": 300
    },
    "id": "NBMFCCrwlUWK",
    "outputId": "acbb98dd-dd4c-46a0-9e2f-ab71de816a54"
   },
   "outputs": [],
   "source": [
    "# Let's formally find the relationship...\n",
    "from scipy import stats\n",
    "\n",
    "# First let's make the tables the same..\n",
    "chars_periods_huck_finn.columns = ['characters', 'periods']\n",
    "chars_periods_little_women.columns = ['characters', 'periods']\n",
    "display(chars_periods_huck_finn[:5])\n",
    "len(chars_periods_huck_finn)"
   ]
  },
  {
   "cell_type": "code",
   "execution_count": null,
   "metadata": {
    "colab": {
     "base_uri": "https://localhost:8080/",
     "height": 423
    },
    "executionInfo": {
     "elapsed": 247,
     "status": "ok",
     "timestamp": 1691183010756,
     "user": {
      "displayName": "Aron C",
      "userId": "07834910496055545653"
     },
     "user_tz": 300
    },
    "id": "7oo8pX14lUWK",
    "outputId": "79fcb884-3938-42ac-c14f-81f204962096"
   },
   "outputs": [],
   "source": [
    "# Now we are going to concatinate the data together -- this is our first join operation!\n",
    "\n",
    "merged = pd.concat([chars_periods_huck_finn, chars_periods_little_women])\n",
    "merged"
   ]
  },
  {
   "cell_type": "code",
   "execution_count": null,
   "metadata": {
    "colab": {
     "base_uri": "https://localhost:8080/"
    },
    "executionInfo": {
     "elapsed": 15,
     "status": "ok",
     "timestamp": 1691183010757,
     "user": {
      "displayName": "Aron C",
      "userId": "07834910496055545653"
     },
     "user_tz": 300
    },
    "id": "Q3YaeRaLlUWK",
    "outputId": "be55c59a-f389-448c-f09c-883d0a0011a9"
   },
   "outputs": [],
   "source": [
    "len(merged)"
   ]
  },
  {
   "cell_type": "code",
   "execution_count": null,
   "metadata": {
    "executionInfo": {
     "elapsed": 11,
     "status": "ok",
     "timestamp": 1691183010757,
     "user": {
      "displayName": "Aron C",
      "userId": "07834910496055545653"
     },
     "user_tz": 300
    },
    "id": "JRAo9NSRlUWK"
   },
   "outputs": [],
   "source": [
    "slope, intercept, r_value, p_value, std_err = stats.linregress(merged['periods'],merged['characters'])"
   ]
  },
  {
   "cell_type": "code",
   "execution_count": null,
   "metadata": {
    "colab": {
     "base_uri": "https://localhost:8080/"
    },
    "executionInfo": {
     "elapsed": 11,
     "status": "ok",
     "timestamp": 1691183010757,
     "user": {
      "displayName": "Aron C",
      "userId": "07834910496055545653"
     },
     "user_tz": 300
    },
    "id": "qttprS7mlUWK",
    "outputId": "57df1363-9df0-4bac-fea8-3f3e5553c959"
   },
   "outputs": [],
   "source": [
    "slope"
   ]
  },
  {
   "cell_type": "code",
   "execution_count": null,
   "metadata": {
    "colab": {
     "base_uri": "https://localhost:8080/"
    },
    "executionInfo": {
     "elapsed": 9,
     "status": "ok",
     "timestamp": 1691183010758,
     "user": {
      "displayName": "Aron C",
      "userId": "07834910496055545653"
     },
     "user_tz": 300
    },
    "id": "4U9Xk0GllUWK",
    "outputId": "3899d06f-9647-4637-aa86-17b3e266d040"
   },
   "outputs": [],
   "source": [
    "intercept"
   ]
  },
  {
   "cell_type": "code",
   "execution_count": null,
   "metadata": {
    "colab": {
     "base_uri": "https://localhost:8080/"
    },
    "executionInfo": {
     "elapsed": 196,
     "status": "ok",
     "timestamp": 1691183010948,
     "user": {
      "displayName": "Aron C",
      "userId": "07834910496055545653"
     },
     "user_tz": 300
    },
    "id": "jyGT0qd3lUWL",
    "outputId": "83c50fa8-30ac-450c-9167-dec31a4af747"
   },
   "outputs": [],
   "source": [
    "r_value"
   ]
  },
  {
   "cell_type": "code",
   "execution_count": null,
   "metadata": {
    "colab": {
     "base_uri": "https://localhost:8080/"
    },
    "executionInfo": {
     "elapsed": 18,
     "status": "ok",
     "timestamp": 1691183010949,
     "user": {
      "displayName": "Aron C",
      "userId": "07834910496055545653"
     },
     "user_tz": 300
    },
    "id": "fSqPZpg2lUWL",
    "outputId": "3bf50c84-6226-4941-b2ed-0485567c18a3"
   },
   "outputs": [],
   "source": [
    "p_value"
   ]
  },
  {
   "cell_type": "code",
   "execution_count": null,
   "metadata": {
    "colab": {
     "base_uri": "https://localhost:8080/"
    },
    "executionInfo": {
     "elapsed": 14,
     "status": "ok",
     "timestamp": 1691183010949,
     "user": {
      "displayName": "Aron C",
      "userId": "07834910496055545653"
     },
     "user_tz": 300
    },
    "id": "v6cyqKnXlUWL",
    "outputId": "5ef88465-a5bb-43c7-aad4-9bdf1b754d3d"
   },
   "outputs": [],
   "source": [
    "std_err"
   ]
  },
  {
   "cell_type": "code",
   "execution_count": null,
   "metadata": {
    "executionInfo": {
     "elapsed": 9,
     "status": "ok",
     "timestamp": 1691183010950,
     "user": {
      "displayName": "Aron C",
      "userId": "07834910496055545653"
     },
     "user_tz": 300
    },
    "id": "0i-4Z-e2lUWL"
   },
   "outputs": [],
   "source": [
    "line = slope * merged['periods'] + intercept"
   ]
  },
  {
   "cell_type": "markdown",
   "metadata": {
    "id": "UA1KJ5wqlUWL"
   },
   "source": [
    "Now we can add the line above to our plot using the [plot function](https://matplotlib.org/3.1.1/api/_as_gen/matplotlib.pyplot.plot.html)."
   ]
  },
  {
   "cell_type": "code",
   "execution_count": null,
   "metadata": {
    "colab": {
     "base_uri": "https://localhost:8080/",
     "height": 936
    },
    "executionInfo": {
     "elapsed": 1130,
     "status": "ok",
     "timestamp": 1691183012071,
     "user": {
      "displayName": "Aron C",
      "userId": "07834910496055545653"
     },
     "user_tz": 300
    },
    "id": "iyMuCMTmlUWL",
    "outputId": "03c81f33-5036-4a5e-a0cd-f97d6f9c47b4"
   },
   "outputs": [],
   "source": [
    "plt.figure(figsize=(10, 10))\n",
    "plt.scatter(chars_periods_huck_finn[\"periods\"],\n",
    "              chars_periods_huck_finn[\"characters\"],\n",
    "              color='darkblue')\n",
    "\n",
    "plt.scatter(chars_periods_little_women[\"periods\"],\n",
    "              chars_periods_little_women[\"characters\"],\n",
    "              color='gold')\n",
    "\n",
    "plt.plot(merged['periods'], line, lw=1, ls=':')\n",
    "\n",
    "plt.xlabel('Number of periods in chapter')\n",
    "plt.ylabel('Number of characters in chapter')"
   ]
  }
 ],
 "metadata": {
  "colab": {
   "provenance": []
  },
  "kernelspec": {
   "display_name": "Python 3 (ipykernel)",
   "language": "python",
   "name": "python3"
  },
  "language_info": {
   "codemirror_mode": {
    "name": "ipython",
    "version": 3
   },
   "file_extension": ".py",
   "mimetype": "text/x-python",
   "name": "python",
   "nbconvert_exporter": "python",
   "pygments_lexer": "ipython3",
   "version": "3.11.5"
  },
  "vscode": {
   "interpreter": {
    "hash": "aee8b7b246df8f9039afb4144a1f6fd8d2ca17a180786b69acc140d282b71a49"
   }
  }
 },
 "nbformat": 4,
 "nbformat_minor": 4
}
